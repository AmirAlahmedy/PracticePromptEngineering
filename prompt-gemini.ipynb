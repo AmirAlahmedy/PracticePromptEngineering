{
 "cells": [
  {
   "cell_type": "code",
   "execution_count": 2,
   "metadata": {},
   "outputs": [],
   "source": [
    "import os\n",
    "from google import genai\n",
    "from dotenv import load_dotenv, find_dotenv\n",
    "_ = load_dotenv(find_dotenv())\n",
    "\n",
    "client  = genai.Client(api_key=os.getenv('GEMINI_API_KEY'))"
   ]
  },
  {
   "cell_type": "markdown",
   "metadata": {},
   "source": [
    "# Talking to Gemini"
   ]
  },
  {
   "cell_type": "code",
   "execution_count": 11,
   "metadata": {},
   "outputs": [],
   "source": [
    "def get_completion(prompt):\n",
    "   response = client.models.generate_content(\n",
    "        model=\"gemini-2.0-flash\",\n",
    "        contents=prompt,\n",
    "    )\n",
    "   return response.text"
   ]
  },
  {
   "cell_type": "code",
   "execution_count": 6,
   "metadata": {},
   "outputs": [
    {
     "data": {
      "text/plain": [
       "'Okay, let\\'s break down how AI works. It\\'s a broad field, so I\\'ll cover the core concepts and then dive into some common techniques.\\n\\n**What is AI? (At its core)**\\n\\nAt its most fundamental, Artificial Intelligence (AI) is about creating computer systems that can perform tasks that typically require human intelligence. These tasks might include:\\n\\n*   **Learning:**  Acquiring information and rules for using the information.\\n*   **Reasoning:**  Applying logic and making inferences.\\n*   **Problem-solving:**  Finding solutions to complex situations.\\n*   **Perception:**  Understanding and interpreting sensory data (like images, sound, text).\\n*   **Understanding Natural Language:**  Comprehending and generating human language.\\n*   **Decision Making:** Choosing between options to achieve a goal.\\n\\n**The Key Ingredient: Algorithms and Data**\\n\\nAI systems achieve these abilities by relying heavily on two key ingredients:\\n\\n1.  **Algorithms:** These are sets of rules or instructions that the computer follows to perform a specific task. Think of them like recipes. They tell the computer exactly what steps to take in a given situation.\\n2.  **Data:** AI algorithms need data to learn from.  The more data they have, the better they can usually become at their task.  This data can be anything: images, text, numbers, sounds, etc.\\n\\n**The Major Approaches to AI (Key Techniques):**\\n\\nHere are some of the most important approaches within the AI field:\\n\\n*   **1. Machine Learning (ML):**\\n\\n    *   **The Idea:** Instead of explicitly programming a computer with rules, you *train* it on data. The algorithm learns patterns and relationships within the data and uses those patterns to make predictions or decisions on new, unseen data.\\n\\n    *   **Analogy:**  Think about teaching a child to recognize cats. You don\\'t give them a rigid list of rules (\"Cats have pointy ears, whiskers, and fur\"). You show them many pictures of cats. Eventually, they develop an internal model of what a cat looks like and can identify new cats they\\'ve never seen before.  Machine learning is similar.\\n\\n    *   **Types of Machine Learning:**\\n\\n        *   **Supervised Learning:**\\n            *   **How it Works:**  The algorithm is trained on a *labeled* dataset. This means that each piece of data has a correct answer associated with it.  For example, you might have a dataset of images where each image is labeled as either \"cat\" or \"not cat.\"\\n            *   **Goal:** The algorithm learns to map the input data to the correct output label.\\n            *   **Examples:**\\n                *   Image classification (identifying objects in pictures)\\n                *   Spam detection (classifying emails as spam or not spam)\\n                *   Predicting house prices (based on features like size, location, etc.)\\n            *   **Common Algorithms:**  Linear Regression, Logistic Regression, Support Vector Machines (SVMs), Decision Trees, Random Forests, Naive Bayes.\\n\\n        *   **Unsupervised Learning:**\\n            *   **How it Works:** The algorithm is trained on an *unlabeled* dataset. There are no \"correct answers\" provided. The algorithm has to find patterns and structures in the data on its own.\\n            *   **Goal:** To discover hidden relationships, group similar data points together, or reduce the dimensionality of the data.\\n            *   **Examples:**\\n                *   Customer segmentation (grouping customers based on their purchasing behavior)\\n                *   Anomaly detection (identifying unusual patterns in data)\\n                *   Dimensionality reduction (simplifying data by reducing the number of variables)\\n            *   **Common Algorithms:** K-Means clustering, Hierarchical clustering, Principal Component Analysis (PCA).\\n\\n        *   **Reinforcement Learning:**\\n            *   **How it Works:**  An \"agent\" learns to make decisions in an environment to maximize a reward. The agent interacts with the environment, takes actions, and receives feedback in the form of rewards or penalties.\\n            *   **Goal:** To learn an optimal strategy (a \"policy\") for maximizing the cumulative reward over time.\\n            *   **Analogy:** Think of training a dog. You give the dog a treat (reward) when it performs a desired action and might scold it (penalty) when it does something wrong.  The dog learns to associate certain actions with rewards and others with penalties.\\n            *   **Examples:**\\n                *   Training robots to walk or perform tasks.\\n                *   Developing game-playing AI (like AlphaGo).\\n                *   Optimizing resource allocation.\\n            *   **Common Algorithms:** Q-Learning, Deep Q-Networks (DQN), Policy Gradients.\\n\\n*   **2. Deep Learning (DL):**\\n\\n    *   **The Idea:** A subfield of machine learning that uses artificial neural networks with *many* layers (hence \"deep\"). These deep networks are capable of learning very complex patterns from large amounts of data.\\n\\n    *   **Analogy:** Think of the human brain. It\\'s made up of billions of interconnected neurons. Deep learning models are inspired by this structure.\\n\\n    *   **How it Works:** Deep learning models learn hierarchical representations of data.  Lower layers learn simple features (e.g., edges in an image), and higher layers learn more complex features (e.g., faces in an image).\\n\\n    *   **Types of Deep Learning Architectures:**\\n\\n        *   **Convolutional Neural Networks (CNNs):**  Excellent for image and video processing.  They use convolutional layers to extract features from images.\\n        *   **Recurrent Neural Networks (RNNs):**  Well-suited for sequential data, like text and audio.  They have memory of past inputs, which allows them to understand context.  LSTMs and GRUs are common types of RNNs.\\n        *   **Transformers:**  A newer architecture that has revolutionized natural language processing. They rely on attention mechanisms to weigh the importance of different parts of the input sequence.\\n\\n    *   **Advantages:**\\n        *   Can learn very complex patterns.\\n        *   Often achieves state-of-the-art performance in many tasks.\\n        *   Can automatically learn features from data, reducing the need for manual feature engineering.\\n\\n    *   **Disadvantages:**\\n        *   Requires large amounts of data for training.\\n        *   Can be computationally expensive to train.\\n        *   Can be difficult to interpret (black box).\\n        *   Prone to overfitting if not regularized properly.\\n\\n*   **3. Natural Language Processing (NLP):**\\n\\n    *   **The Idea:**  Enables computers to understand, interpret, and generate human language.\\n\\n    *   **Tasks:**\\n        *   **Text classification:**  Categorizing text (e.g., sentiment analysis, topic modeling).\\n        *   **Machine translation:**  Translating text from one language to another.\\n        *   **Question answering:**  Answering questions based on a given text.\\n        *   **Text summarization:**  Generating a concise summary of a longer text.\\n        *   **Named entity recognition:**  Identifying and classifying named entities in text (e.g., people, organizations, locations).\\n        *   **Chatbots and virtual assistants:**  Creating conversational agents that can interact with humans.\\n\\n    *   **Techniques:**  NLP uses a combination of machine learning, deep learning, and rule-based approaches.  Transformers (like BERT, GPT) are now very common in NLP.\\n\\n*   **4. Computer Vision:**\\n\\n    *   **The Idea:** Enables computers to \"see\" and interpret images and videos.\\n\\n    *   **Tasks:**\\n        *   **Image classification:** Identifying the objects in an image.\\n        *   **Object detection:**  Locating and identifying multiple objects in an image.\\n        *   **Image segmentation:** Dividing an image into regions.\\n        *   **Image generation:** Creating new images.\\n        *   **Facial recognition:**  Identifying faces in images or videos.\\n\\n    *   **Techniques:**  Computer vision heavily relies on convolutional neural networks (CNNs).\\n\\n*   **5. Expert Systems:**\\n\\n    *   **The Idea:**  Designed to mimic the decision-making ability of a human expert in a specific domain.\\n\\n    *   **How it Works:**  Uses a knowledge base (a collection of facts and rules) and an inference engine (which applies the rules to the facts to draw conclusions).\\n\\n    *   **Example:**  A medical diagnosis system that uses a knowledge base of medical symptoms and diseases to help doctors diagnose patients.\\n\\n**The AI Development Process (Simplified):**\\n\\n1.  **Define the Problem:**  Clearly articulate what you want the AI to do.\\n2.  **Gather Data:** Collect relevant data that the AI can learn from.  The quality and quantity of the data are crucial.\\n3.  **Choose an Algorithm/Model:** Select the appropriate AI technique based on the problem and the available data.  This might involve experimenting with different algorithms.\\n4.  **Train the Model:** Feed the data into the chosen algorithm, allowing it to learn the patterns and relationships.\\n5.  **Evaluate the Model:** Assess how well the AI is performing using evaluation metrics appropriate for the task (e.g., accuracy, precision, recall, F1-score).\\n6.  **Tune the Model (Hyperparameter Optimization):** Adjust the parameters of the algorithm to improve its performance.\\n7.  **Deploy the Model:**  Integrate the trained AI model into a real-world application.\\n8.  **Monitor and Retrain:** Continuously monitor the AI\\'s performance and retrain it with new data to keep it up-to-date and improve its accuracy.\\n\\n**Important Considerations:**\\n\\n*   **Bias:** AI models can inherit biases from the data they are trained on.  It\\'s crucial to be aware of and mitigate bias to ensure fairness and avoid discriminatory outcomes.\\n*   **Explainability:**  Some AI models (especially deep learning models) are difficult to interpret.  Explainable AI (XAI) is a growing area of research that aims to make AI models more transparent and understandable.\\n*   **Ethics:**  AI raises important ethical considerations, such as privacy, security, and the potential impact on jobs.\\n*   **Computational Resources:** Training AI models, especially deep learning models, can require significant computational resources (e.g., GPUs, TPUs).\\n\\n**In Summary:**\\n\\nAI is a powerful field that is transforming many aspects of our lives. It works by using algorithms and data to enable computers to perform tasks that typically require human intelligence. Machine learning, deep learning, natural language processing, and computer vision are some of the key techniques used in AI. While AI has the potential to solve many important problems, it\\'s also important to be aware of its limitations and ethical implications.\\n'"
      ]
     },
     "execution_count": 6,
     "metadata": {},
     "output_type": "execute_result"
    }
   ],
   "source": [
    "prompt = \"Explain how AI works\"\n",
    "get_completion(prompt)"
   ]
  },
  {
   "cell_type": "markdown",
   "metadata": {},
   "source": [
    "# Generating Structured Output"
   ]
  },
  {
   "cell_type": "code",
   "execution_count": 8,
   "metadata": {},
   "outputs": [
    {
     "name": "stdout",
     "output_type": "stream",
     "text": [
      "```json\n",
      "[\n",
      "  {\n",
      "    \"recpie_name\": \"Classic Caesar Salad\",\n",
      "    \"ingredients\": [\n",
      "      \"Romaine lettuce\",\n",
      "      \"Croutons\",\n",
      "      \"Parmesan cheese\",\n",
      "      \"Caesar dressing (mayonnaise, garlic, lemon juice, Worcestershire sauce, anchovy paste, Dijon mustard, olive oil, salt, pepper)\"\n",
      "    ],\n",
      "    \"instructions\": [\n",
      "      \"Wash and chop the romaine lettuce.\",\n",
      "      \"Prepare or buy Caesar dressing.\",\n",
      "      \"Combine lettuce, croutons, and parmesan cheese in a bowl.\",\n",
      "      \"Toss with Caesar dressing.\",\n",
      "      \"Serve immediately.\"\n",
      "    ]\n",
      "  },\n",
      "  {\n",
      "    \"recpie_name\": \"Caprese Salad\",\n",
      "    \"ingredients\": [\n",
      "      \"Fresh mozzarella cheese\",\n",
      "      \"Ripe tomatoes\",\n",
      "      \"Fresh basil leaves\",\n",
      "      \"Balsamic glaze\",\n",
      "      \"Olive oil\",\n",
      "      \"Salt\",\n",
      "      \"Pepper\"\n",
      "    ],\n",
      "    \"instructions\": [\n",
      "      \"Slice the mozzarella and tomatoes into roughly equal-sized rounds.\",\n",
      "      \"Arrange the mozzarella, tomatoes, and basil leaves on a platter, alternating them.\",\n",
      "      \"Drizzle with balsamic glaze and olive oil.\",\n",
      "      \"Season with salt and pepper.\",\n",
      "      \"Serve immediately.\"\n",
      "    ]\n",
      "  },\n",
      "  {\n",
      "    \"recpie_name\": \"Greek Salad\",\n",
      "    \"ingredients\": [\n",
      "      \"Cucumber\",\n",
      "      \"Tomato\",\n",
      "      \"Red onion\",\n",
      "      \"Kalamata olives\",\n",
      "      \"Feta cheese\",\n",
      "      \"Green bell pepper\",\n",
      "      \"Olive oil\",\n",
      "      \"Red wine vinegar\",\n",
      "      \"Dried oregano\",\n",
      "      \"Salt\",\n",
      "      \"Pepper\"\n",
      "    ],\n",
      "    \"instructions\": [\n",
      "      \"Chop the cucumber, tomato, red onion, and green bell pepper into bite-sized pieces.\",\n",
      "      \"Combine the vegetables, olives, and feta cheese in a bowl.\",\n",
      "      \"In a separate bowl, whisk together olive oil, red wine vinegar, oregano, salt, and pepper.\",\n",
      "      \"Pour the dressing over the salad and toss to combine.\",\n",
      "      \"Serve immediately.\"\n",
      "    ]\n",
      "  },\n",
      "  {\n",
      "    \"recpie_name\": \"Cobb Salad\",\n",
      "    \"ingredients\": [\n",
      "      \"Romaine lettuce\",\n",
      "      \"Grilled chicken breast (cooked and diced)\",\n",
      "      \"Hard-boiled eggs (chopped)\",\n",
      "      \"Cooked bacon (crumbled)\",\n",
      "      \"Avocado (diced)\",\n",
      "      \"Tomato (diced)\",\n",
      "      \"Blue cheese (crumbled)\",\n",
      "      \"Red wine vinaigrette (or your favorite dressing)\"\n",
      "    ],\n",
      "    \"instructions\": [\n",
      "      \"Arrange romaine lettuce as the base of the salad.\",\n",
      "      \"Arrange rows of chicken, hard-boiled eggs, bacon, avocado, tomato, and blue cheese on top of the lettuce.\",\n",
      "      \"Drizzle with red wine vinaigrette (or your favorite dressing).\",\n",
      "      \"Serve immediately.\"\n",
      "    ]\n",
      "  }\n",
      "]\n",
      "```\n"
     ]
    }
   ],
   "source": [
    "prompt=\"\"\"List a few popular salad recipes in JSON format.\n",
    "\n",
    "Use this JSON schema:\n",
    "\n",
    "Recipe: {'recpie_name': 'string', 'ingredients': ['string'], 'instructions': ['string']}\n",
    "Return: list[Recipe]\n",
    "\"\"\"\n",
    "\n",
    "print(get_completion(prompt))"
   ]
  },
  {
   "cell_type": "markdown",
   "metadata": {},
   "source": [
    "## Using Pydantic to Generate Structured Output"
   ]
  },
  {
   "cell_type": "code",
   "execution_count": 21,
   "metadata": {},
   "outputs": [],
   "source": [
    "from pydantic import BaseModel\n",
    "\n",
    "class Recipe(BaseModel):\n",
    "    recipe_name: str\n",
    "    ingredients: list[str]\n",
    "    instructions: list[str]\n"
   ]
  },
  {
   "cell_type": "code",
   "execution_count": 22,
   "metadata": {},
   "outputs": [],
   "source": [
    "def get_completion_with_config(prompt, config):\n",
    "    response = client.models.generate_content(\n",
    "        model=\"gemini-2.0-flash\",\n",
    "        contents=prompt,\n",
    "        config=config,\n",
    "    )\n",
    "    return response"
   ]
  },
  {
   "cell_type": "code",
   "execution_count": 23,
   "metadata": {},
   "outputs": [],
   "source": [
    "config = {\n",
    "    'response_mime_type': 'application/json',\n",
    "    'response_schema': list[Recipe]\n",
    "}"
   ]
  },
  {
   "cell_type": "code",
   "execution_count": 19,
   "metadata": {},
   "outputs": [
    {
     "name": "stdout",
     "output_type": "stream",
     "text": [
      "[\n",
      "  {\n",
      "    \"recipe_name\": \"Caesar Salad\",\n",
      "    \"ingredients\": [\"Romaine lettuce\", \"Croutons\", \"Parmesan cheese\", \"Caesar dressing (mayonnaise, garlic, lemon juice, Worcestershire sauce, anchovies, black pepper)\"],\n",
      "    \"instructions\": [\"Wash and chop romaine lettuce.\", \"Prepare or buy croutons.\", \"Grate parmesan cheese.\", \"Make or buy Caesar dressing.\", \"Combine all ingredients and toss well.\", \"Serve immediately\"]\n",
      "  },\n",
      "  {\n",
      "    \"recipe_name\": \"Greek Salad\",\n",
      "    \"ingredients\": [\"Tomatoes\", \"Cucumbers\", \"Red onion\", \"Kalamata olives\", \"Feta cheese\", \"Olive oil\", \"Red wine vinegar\", \"Oregano\", \"Salt\", \"Pepper\"],\n",
      "    \"instructions\": [\"Chop tomatoes and cucumbers.\", \"Slice red onion thinly.\", \"Combine tomatoes, cucumbers, red onion, and olives in a bowl.\", \"Add feta cheese.\", \"Dress with olive oil, red wine vinegar, oregano, salt, and pepper.\", \"Toss gently and serve.\" ]\n",
      "  },\n",
      "  {\n",
      "    \"recipe_name\": \"Caprese Salad\",\n",
      "    \"ingredients\": [\"Fresh mozzarella\", \"Tomatoes\", \"Fresh basil\", \"Balsamic glaze\", \"Olive oil\", \"Salt\", \"Pepper\"],\n",
      "    \"instructions\": [\"Slice mozzarella and tomatoes into equal-sized pieces.\", \"Arrange mozzarella, tomato, and basil leaves on a plate, alternating each ingredient.\", \"Drizzle with balsamic glaze and olive oil.\", \"Season with salt and pepper.\", \"Serve immediately.\" ]\n",
      "  }\n",
      "]\n"
     ]
    }
   ],
   "source": [
    "response = get_completion_with_config(prompt, config)\n",
    "print(response.text)"
   ]
  },
  {
   "cell_type": "markdown",
   "metadata": {},
   "source": [
    "### Parsing the Structured Output into Objects"
   ]
  },
  {
   "cell_type": "code",
   "execution_count": 24,
   "metadata": {},
   "outputs": [],
   "source": [
    "my_recipes: list[Recipe] = response.parsed"
   ]
  },
  {
   "cell_type": "markdown",
   "metadata": {},
   "source": [
    "## Using Enum to Constrain Output"
   ]
  },
  {
   "cell_type": "code",
   "execution_count": 25,
   "metadata": {},
   "outputs": [],
   "source": [
    "import enum"
   ]
  },
  {
   "cell_type": "code",
   "execution_count": 26,
   "metadata": {},
   "outputs": [],
   "source": [
    "class Instrument(enum.Enum):\n",
    "    PERCUSSION = \"Percussion\"\n",
    "    STRING = \"String\"\n",
    "    WOODWIND = \"Woodwind\"\n",
    "    BRASS = \"Brass\"\n",
    "    KEYBOARD = \"Keyboard\""
   ]
  },
  {
   "cell_type": "code",
   "execution_count": 27,
   "metadata": {},
   "outputs": [],
   "source": [
    "config = {\n",
    "    'response_mime_type': 'text/x.enum',\n",
    "    'response_schema': Instrument\n",
    "}"
   ]
  },
  {
   "cell_type": "code",
   "execution_count": 29,
   "metadata": {},
   "outputs": [],
   "source": [
    "prompt = \"'What type of instrument is an oboe?\"\n",
    "\n",
    "response = get_completion_with_config(prompt, config)"
   ]
  },
  {
   "cell_type": "code",
   "execution_count": 30,
   "metadata": {},
   "outputs": [
    {
     "name": "stdout",
     "output_type": "stream",
     "text": [
      "Woodwind\n"
     ]
    }
   ],
   "source": [
    "print(response.text)"
   ]
  },
  {
   "cell_type": "markdown",
   "metadata": {},
   "source": [
    "### Passing the Schema as JSON"
   ]
  },
  {
   "cell_type": "code",
   "execution_count": null,
   "metadata": {},
   "outputs": [],
   "source": [
    "config = {\n",
    "    'response_mime_type': 'text/x.enum',\n",
    "    'response_schema': {\n",
    "        \"type\": \"STRING\",\n",
    "        \"enum\": [\"Percussion\", \"String\", \"Woodwind\", \"Brass\", \"Keyboard\"], \n",
    "    },\n",
    "}"
   ]
  },
  {
   "cell_type": "code",
   "execution_count": 32,
   "metadata": {},
   "outputs": [
    {
     "name": "stdout",
     "output_type": "stream",
     "text": [
      "Woodwind\n"
     ]
    }
   ],
   "source": [
    "response = get_completion_with_config(prompt, config)\n",
    "print(response.text)"
   ]
  },
  {
   "cell_type": "code",
   "execution_count": 33,
   "metadata": {},
   "outputs": [],
   "source": [
    "class Grade(enum.Enum):\n",
    "    A_PLUS = \"A+\"\n",
    "    A = \"A\"\n",
    "    B = \"B\"\n",
    "    C = \"C\"\n",
    "    D = \"D\"\n",
    "    F = \"F\""
   ]
  },
  {
   "cell_type": "code",
   "execution_count": 35,
   "metadata": {},
   "outputs": [],
   "source": [
    "class RatededRecipe(BaseModel):\n",
    "    recipe_name: str\n",
    "    rating: Grade\n",
    "    ingredients: list[str]\n",
    "    instructions: list[str]"
   ]
  },
  {
   "cell_type": "code",
   "execution_count": 40,
   "metadata": {},
   "outputs": [],
   "source": [
    "config = {\n",
    "    'response_mime_type': 'application/json',\n",
    "    'response_schema': list[RatededRecipe],\n",
    "}"
   ]
  },
  {
   "cell_type": "code",
   "execution_count": 41,
   "metadata": {},
   "outputs": [
    {
     "name": "stdout",
     "output_type": "stream",
     "text": [
      "[\n",
      "  {\n",
      "    \"recipe_name\": \"Classic Caesar Salad\",\n",
      "    \"rating\": \"A\",\n",
      "    \"ingredients\": [\"Romaine lettuce\", \"Croutons\", \"Parmesan cheese\", \"Caesar dressing\"],\n",
      "    \"instructions\": [\"Wash and chop romaine lettuce.\", \"Prepare or buy croutons.\", \"Grate Parmesan cheese.\", \"Toss lettuce, croutons, and cheese with Caesar dressing.\", \"Serve immediately\"]\n",
      "  },\n",
      "  {\n",
      "    \"recipe_name\": \"Greek Salad\",\n",
      "    \"rating\": \"A\",\n",
      "    \"ingredients\": [\"Cucumber\", \"Tomato\", \"Red onion\", \"Kalamata olives\", \"Feta cheese\", \"Olive oil\", \"Red wine vinegar\", \"Oregano\"],\n",
      "    \"instructions\": [\"Chop cucumber, tomato, and red onion.\", \"Combine with olives and feta cheese.\", \"Dress with olive oil, red wine vinegar, and oregano.\", \"Toss gently and serve\"]\n",
      "  },\n",
      "  {\n",
      "    \"recipe_name\": \"Caprese Salad\",\n",
      "    \"rating\": \"A\",\n",
      "    \"ingredients\": [\"Fresh mozzarella\", \"Tomatoes\", \"Fresh basil\", \"Balsamic glaze\", \"Olive oil\"],\n",
      "    \"instructions\": [\"Slice mozzarella and tomatoes.\", \"Arrange mozzarella, tomatoes, and basil leaves on a plate.\", \"Drizzle with balsamic glaze and olive oil.\", \"Serve immediately\"]\n",
      "  },\n",
      "  {\n",
      "    \"recipe_name\": \"Cobb Salad\",\n",
      "    \"rating\": \"B\",\n",
      "    \"ingredients\": [\"Lettuce\", \"Chicken breast\", \"Bacon\", \"Avocado\", \"Hard-boiled egg\", \"Tomato\", \"Blue cheese\", \"Vinaigrette dressing\"],\n",
      "    \"instructions\": [\"Chop lettuce.\", \"Cook and slice chicken breast and bacon.\", \"Dice avocado, hard-boiled egg, and tomato.\", \"Crumble blue cheese.\", \"Arrange ingredients on lettuce.\", \"Serve with vinaigrette dressing\"]\n",
      "  },\n",
      "  {\n",
      "    \"recipe_name\": \"Spinach Salad with Berries\",\n",
      "    \"rating\": \"B\",\n",
      "    \"ingredients\": [\"Spinach\", \"Strawberries\", \"Blueberries\", \"Raspberries\", \"Goat cheese\", \"Candied pecans\", \"Balsamic vinaigrette\"],\n",
      "    \"instructions\": [\"Wash spinach and berries.\", \"Crumble goat cheese.\", \"Combine spinach, berries, goat cheese, and candied pecans.\", \"Dress with balsamic vinaigrette.\", \"Toss gently and serve\"]\n",
      "  },\n",
      "  {\n",
      "    \"recipe_name\": \"Waldorf Salad\",\n",
      "    \"rating\": \"C\",\n",
      "    \"ingredients\": [\"Apples\", \"Celery\", \"Grapes\", \"Walnuts\", \"Mayonnaise\", \"Lemon juice\"],\n",
      "    \"instructions\": [\"Chop apples and celery.\", \"Halve grapes.\", \"Chop walnuts.\", \"Combine apples, celery, grapes, and walnuts.\", \"Mix with mayonnaise and lemon juice.\", \"Serve chilled\"]\n",
      "  },\n",
      "  {\n",
      "    \"recipe_name\": \"Pasta Salad\",\n",
      "    \"rating\": \"B\",\n",
      "    \"ingredients\": [\"Pasta\", \"Cherry tomatoes\", \"Cucumber\", \"Bell pepper\", \"Italian dressing\"],\n",
      "    \"instructions\": [\"Cook pasta according to package directions.\", \"Halve cherry tomatoes.\", \"Chop cucumber and bell pepper.\", \"Combine pasta, tomatoes, cucumber, and bell pepper.\", \"Dress with Italian dressing.\", \"Chill before serving\"]\n",
      "  },\n",
      "  {\n",
      "    \"recipe_name\": \"Taco Salad\",\n",
      "    \"rating\": \"B\",\n",
      "    \"ingredients\": [\"Ground beef\", \"Lettuce\", \"Tomatoes\", \"Shredded cheese\", \"Salsa\", \"Sour cream\", \"Tortilla chips\"],\n",
      "    \"instructions\": [\"Cook ground beef and season with taco seasoning.\", \"Chop lettuce and tomatoes.\", \"Crush tortilla chips.\", \"Layer lettuce, ground beef, tomatoes, cheese, salsa, sour cream, and tortilla chips.\", \"Serve immediately\"]\n",
      "  },\n",
      "  {\n",
      "    \"recipe_name\": \"Broccoli Salad\",\n",
      "    \"rating\": \"C\",\n",
      "    \"ingredients\": [\"Broccoli florets\", \"Bacon\", \"Red onion\", \"Raisins\", \"Mayonnaise\", \"Apple cider vinegar\", \"Sugar\"],\n",
      "    \"instructions\": [\"Chop broccoli florets.\", \"Cook and crumble bacon.\", \"Dice red onion.\", \"Combine broccoli, bacon, red onion, and raisins.\", \"Mix mayonnaise, apple cider vinegar, and sugar.\", \"Dress salad with mayonnaise mixture.\", \"Chill before serving\"]\n",
      "  },\n",
      "  {\n",
      "    \"recipe_name\": \"Potato Salad\",\n",
      "    \"rating\": \"C\",\n",
      "    \"ingredients\": [\"Potatoes\", \"Mayonnaise\", \"Mustard\", \"Celery\", \"Onion\", \"Hard-boiled eggs\", \"Pickle relish\"],\n",
      "    \"instructions\": [\"Boil and dice potatoes.\", \"Mix mayonnaise, mustard, chopped celery, onion, eggs, and pickle relish\", \"Combine potatoes and mayonnaise mixture.\", \"Chill before serving\"]\n",
      "  }\n",
      "]\n"
     ]
    }
   ],
   "source": [
    "prompt = 'List 10 salad recipes and give them grades based on tastiness.'\n",
    "response = get_completion_with_config(prompt, config)\n",
    "print(response.text)"
   ]
  }
 ],
 "metadata": {
  "kernelspec": {
   "display_name": "venv",
   "language": "python",
   "name": "python3"
  },
  "language_info": {
   "codemirror_mode": {
    "name": "ipython",
    "version": 3
   },
   "file_extension": ".py",
   "mimetype": "text/x-python",
   "name": "python",
   "nbconvert_exporter": "python",
   "pygments_lexer": "ipython3",
   "version": "3.13.1"
  }
 },
 "nbformat": 4,
 "nbformat_minor": 2
}
