{
 "cells": [
  {
   "cell_type": "markdown",
   "metadata": {},
   "source": [
    "# Expanding"
   ]
  },
  {
   "cell_type": "code",
   "execution_count": 1,
   "metadata": {},
   "outputs": [],
   "source": [
    "import os\n",
    "import textwrap\n",
    "\n",
    "from google import genai\n",
    "from dotenv import load_dotenv, find_dotenv\n",
    "from IPython.display import display, Markdown, Latex, HTML, JSON\n",
    "\n",
    "_ = load_dotenv(find_dotenv())\n",
    "\n",
    "def to_markdown(text):\n",
    "    text = text.replace(\"•\", \"  *\")\n",
    "    return Markdown(textwrap.indent(text, \"> \", predicate=lambda _: True))\n",
    "\n",
    "client  = genai.Client(api_key=os.getenv('GEMINI_API_KEY'))"
   ]
  },
  {
   "cell_type": "code",
   "execution_count": 16,
   "metadata": {},
   "outputs": [],
   "source": [
    "def get_completion(prompt, temperature=0):\n",
    "   response = client.models.generate_content(\n",
    "        model=\"gemini-2.0-flash\",\n",
    "        contents=prompt,\n",
    "        config={\"temperature\": temperature}\n",
    "    )\n",
    "   return response.text, response.parsed"
   ]
  },
  {
   "cell_type": "code",
   "execution_count": 14,
   "metadata": {},
   "outputs": [],
   "source": [
    "sentiment = \"negative\"\n",
    "\n",
    "# review for a blender\n",
    "review = f\"\"\"\n",
    "So, they still had the 17 piece system on seasonal \n",
    "sale for around $49 in the month of November, about \n",
    "half off, but for some reason (call it price gouging) \n",
    "around the second week of December the prices all went \n",
    "up to about anywhere from between $70-$89 for the same \n",
    "system. And the 11 piece system went up around $10 or \n",
    "so in price also from the earlier sale price of $29. \n",
    "So it looks okay, but if you look at the base, the part \n",
    "where the blade locks into place doesn’t look as good \n",
    "as in previous editions from a few years ago, but I \n",
    "plan to be very gentle with it (example, I crush \n",
    "very hard items like beans, ice, rice, etc. in the \n",
    "blender first then pulverize them in the serving size \n",
    "I want in the blender then switch to the whipping \n",
    "blade for a finer flour, and use the cross cutting blade \n",
    "first when making smoothies, then use the flat blade \n",
    "if I need them finer/less pulpy). Special tip when making \n",
    "smoothies, finely cut and freeze the fruits and \n",
    "vegetables (if using spinach-lightly stew soften the \n",
    "spinach then freeze until ready for use-and if making \n",
    "sorbet, use a small to medium sized food processor) \n",
    "that you plan to use that way you can avoid adding so \n",
    "much ice if at all-when making your smoothie. \n",
    "After about a year, the motor was making a funny noise. \n",
    "I called customer service but the warranty expired \n",
    "already, so I had to buy another one. FYI: The overall \n",
    "quality has gone done in these types of products, so \n",
    "they are kind of counting on brand recognition and \n",
    "consumer loyalty to maintain sales. Got it in about \n",
    "two days.\n",
    "\"\"\""
   ]
  },
  {
   "cell_type": "code",
   "execution_count": 10,
   "metadata": {},
   "outputs": [
    {
     "name": "stdout",
     "output_type": "stream",
     "text": [
      "Dear valued customer,\n",
      "\n",
      "Thank you for your review.\n",
      "\n",
      "We apologize that you were not happy with your purchase, and that the price increased in December. We're also sorry to hear that the motor made a funny noise after a year and that the warranty had expired.\n",
      "\n",
      "Please reach out to our customer service team so that we can resolve this issue.\n",
      "\n",
      "AI customer agent\n",
      "\n"
     ]
    }
   ],
   "source": [
    "prompt = f\"\"\"\n",
    "You are a customer service AI assistant.\n",
    "Your task is to send an email reply to a valued customer.\n",
    "Given the customer email delimited by ```, \\\n",
    "Generate a reply to thank the customer for their review.\n",
    "If the sentiment is positive or neutral, thank them for \\\n",
    "their review.\n",
    "If the sentiment is negative, apologize and suggest that \\\n",
    "they can reach out to customer service. \n",
    "Make sure to use specific details from the review.\n",
    "Write in a concise and professional tone.\n",
    "Sign the email as `AI customer agent`.\n",
    "Customer review: ```{review}```\n",
    "Review sentiment: {sentiment}\n",
    "\"\"\"\n",
    "response, _ = get_completion(prompt)\n",
    "print(response)"
   ]
  },
  {
   "cell_type": "code",
   "execution_count": 17,
   "metadata": {},
   "outputs": [
    {
     "name": "stdout",
     "output_type": "stream",
     "text": [
      "Dear valued customer,\n",
      "\n",
      "Thank you for taking the time to share your detailed feedback on the 17-piece system.\n",
      "\n",
      "We apologize for the price changes you observed between November and December, and we understand your concern about the base quality compared to previous editions. We also regret to hear about the motor issue you experienced after a year and that your warranty had expired.\n",
      "\n",
      "We appreciate your specific tips on using the system for various purposes, such as making smoothies and grinding hard items.\n",
      "\n",
      "We value your feedback and would like to address your concerns further. Please reach out to our customer service team directly with your order details so we can assist you.\n",
      "\n",
      "AI customer agent\n",
      "\n"
     ]
    }
   ],
   "source": [
    "prompt = f\"\"\"\n",
    "You are a customer service AI assistant.\n",
    "Your task is to send an email reply to a valued customer.\n",
    "Given the customer email delimited by ```, \\\n",
    "Generate a reply to thank the customer for their review.\n",
    "If the sentiment is positive or neutral, thank them for \\\n",
    "their review.\n",
    "If the sentiment is negative, apologize and suggest that \\\n",
    "they can reach out to customer service. \n",
    "Make sure to use specific details from the review.\n",
    "Write in a concise and professional tone.\n",
    "Sign the email as `AI customer agent`.\n",
    "Customer review: ```{review}```\n",
    "Review sentiment: {sentiment}\n",
    "\"\"\"\n",
    "response, _ = get_completion(prompt, temperature=0.7)\n",
    "print(response)"
   ]
  },
  {
   "cell_type": "code",
   "execution_count": null,
   "metadata": {},
   "outputs": [],
   "source": []
  }
 ],
 "metadata": {
  "kernelspec": {
   "display_name": "venv",
   "language": "python",
   "name": "python3"
  },
  "language_info": {
   "codemirror_mode": {
    "name": "ipython",
    "version": 3
   },
   "file_extension": ".py",
   "mimetype": "text/x-python",
   "name": "python",
   "nbconvert_exporter": "python",
   "pygments_lexer": "ipython3",
   "version": "3.13.1"
  }
 },
 "nbformat": 4,
 "nbformat_minor": 2
}
