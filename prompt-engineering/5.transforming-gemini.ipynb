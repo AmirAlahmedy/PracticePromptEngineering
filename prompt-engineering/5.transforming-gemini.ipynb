{
 "cells": [
  {
   "cell_type": "markdown",
   "metadata": {},
   "source": [
    "# Transforming\n",
    "Text transformation tasks such as:\n",
    "- language translation\n",
    "- spelling and grammar checking\n",
    "- tone adjustment\n",
    "- format conversion"
   ]
  },
  {
   "cell_type": "code",
   "execution_count": 38,
   "metadata": {},
   "outputs": [],
   "source": [
    "import os\n",
    "import textwrap\n",
    "\n",
    "from google import genai\n",
    "from dotenv import load_dotenv, find_dotenv\n",
    "from IPython.display import display, Markdown, Latex, HTML, JSON\n",
    "\n",
    "_ = load_dotenv(find_dotenv())\n",
    "\n",
    "def to_markdown(text):\n",
    "    text = text.replace(\"•\", \"  *\")\n",
    "    return Markdown(textwrap.indent(text, \"> \", predicate=lambda _: True))\n",
    "\n",
    "client  = genai.Client(api_key=os.getenv('GEMINI_API_KEY'))"
   ]
  },
  {
   "cell_type": "code",
   "execution_count": 3,
   "metadata": {},
   "outputs": [],
   "source": [
    "def get_completion(prompt):\n",
    "   response = client.models.generate_content(\n",
    "        model=\"gemini-2.0-flash\",\n",
    "        contents=prompt,\n",
    "    )\n",
    "   return response.text, response.parsed"
   ]
  },
  {
   "cell_type": "markdown",
   "metadata": {},
   "source": [
    "## Translation"
   ]
  },
  {
   "cell_type": "code",
   "execution_count": 2,
   "metadata": {},
   "outputs": [],
   "source": [
    "text = \"\"\"\" \n",
    "Marcel Proust 1927: “Each reader reads only what is already inside himself.\n",
    "A book is only a sort of optical instrument which the writer offers to let\n",
    "the reader discover in himself what he would not have found without the aid \n",
    "of the book.”\n",
    "\"\"\""
   ]
  },
  {
   "cell_type": "code",
   "execution_count": null,
   "metadata": {},
   "outputs": [],
   "source": [
    "prompt = f\"\"\"Translate the following English text to French: {text}\"\"\" \n",
    "response, _  = get_completion(prompt)"
   ]
  },
  {
   "cell_type": "code",
   "execution_count": 35,
   "metadata": {},
   "outputs": [
    {
     "data": {
      "text/markdown": [
       "> The language is **French**.\n"
      ],
      "text/plain": [
       "<IPython.core.display.Markdown object>"
      ]
     },
     "execution_count": 35,
     "metadata": {},
     "output_type": "execute_result"
    }
   ],
   "source": [
    "to_markdown(response)"
   ]
  },
  {
   "cell_type": "code",
   "execution_count": 34,
   "metadata": {},
   "outputs": [
    {
     "data": {
      "text/markdown": [
       "> The language is **French**.\n"
      ],
      "text/plain": [
       "<IPython.core.display.Markdown object>"
      ]
     },
     "execution_count": 34,
     "metadata": {},
     "output_type": "execute_result"
    }
   ],
   "source": [
    "prompt = f\"\"\"\n",
    "Tell me which language this is: \n",
    "```Combien coûte le lampadaire?```\n",
    "\"\"\"\n",
    "response, _ = get_completion(prompt)\n",
    "to_markdown(response)"
   ]
  },
  {
   "cell_type": "code",
   "execution_count": 13,
   "metadata": {},
   "outputs": [],
   "source": [
    "poem = f\"\"\"\n",
    "السحبُ تركضُ في الفضاءِ الرّحبِ ركضَ الخائفينْ\n",
    "والشمسُ تبدو خلفها صفراءَ عاصبةَ الجبينْ\n",
    "والبحرُ ساجٍ صامتٌ فيه خشوعُ الزاهدينْ\n",
    "لكنّما عيناكِ باهتتان في الأفقِ البعيدْ\n",
    "سلمى... بماذا تفكّرينْ؟\n",
    "سلمى... بماذا تحلمينْ؟\"\"\"\n",
    "\n",
    "prompt = f\"\"\"Translate the following Arabic poem to English: {poem}\"\"\" \n",
    "response  = get_completion(prompt)"
   ]
  },
  {
   "cell_type": "code",
   "execution_count": 14,
   "metadata": {},
   "outputs": [
    {
     "name": "stdout",
     "output_type": "stream",
     "text": [
      "(\"Here's the translation of the Arabic poem:\\n\\nThe clouds are running in the wide expanse of space,\\nLike the running of the fearful.\\nAnd the sun appears behind them, yellow,\\nWith a bandaged brow.\\nThe sea is still, silent,\\nWith the reverence of the ascetics.\\nBut your eyes are vacant, staring into the distant horizon...\\nSalma... what are you thinking about?\\nSalma... what are you dreaming of?\\n\", None)\n"
     ]
    }
   ],
   "source": [
    "print(response)"
   ]
  },
  {
   "cell_type": "code",
   "execution_count": 33,
   "metadata": {},
   "outputs": [
    {
     "data": {
      "text/markdown": [
       "> Okay, here are the French and Spanish translations of the Arabic poem, along with some notes on translation choices:\n",
       "> \n",
       "> **Arabic:**\n",
       "> \n",
       "> ```\n",
       "> السحبُ تركضُ في الفضاءِ الرّحبِ ركضَ الخائفينْ\n",
       "> والشمسُ تبدو خلفها صفراءَ عاصبةَ الجبينْ\n",
       "> والبحرُ ساجٍ صامتٌ فيه خشوعُ الزاهدينْ\n",
       "> لكنّما عيناكِ باهتتان في الأفقِ البعيدْ\n",
       "> سلمى... بماذا تفكّرينْ؟\n",
       "> سلمى... بماذا تحلمينْ؟\n",
       "> ```\n",
       "> \n",
       "> **French Translation:**\n",
       "> \n",
       "> ```\n",
       "> Les nuages courent dans l'espace vaste, comme des fuyards.\n",
       "> Le soleil apparaît derrière eux, jaune, le front bandé.\n",
       "> La mer est calme, silencieuse, empreinte de la dévotion des ascètes.\n",
       "> Mais tes yeux sont ternes, perdus dans l'horizon lointain.\n",
       "> Salma... à quoi penses-tu ?\n",
       "> Salma... à quoi rêves-tu ?\n",
       "> ```\n",
       "> \n",
       "> **Explanation of French Translation Choices:**\n",
       "> \n",
       "> *   **\"السحبُ تركضُ\"**:  \"Les nuages courent\" captures the movement well. \"Se précipitent\" could also work but \"courent\" feels slightly more natural in French.\n",
       "> *   **\"الفضاءِ الرّحبِ\"**:  \"L'espace vaste\" is a simple and effective translation. \"L'étendue vaste\" could also be used.\n",
       "> *   **\"ركضَ الخائفينْ\"**:  \"Comme des fuyards\" or \"comme des fugitifs\" captures the sense of running in fear.\n",
       "> *   **\"الشمسُ تبدو خلفها صفراءَ عاصبةَ الجبينْ\"**:  \"Le soleil apparaît derrière eux, jaune, le front bandé.\" This translation tries to maintain the visual imagery. \"Jaune, le front ceint\" is another option, slightly more poetic.\n",
       "> *   **\"البحرُ ساجٍ صامتٌ فيه خشوعُ الزاهدينْ\"**: \"La mer est calme, silencieuse, empreinte de la dévotion des ascètes.\" This tries to keep the solemn, spiritual feeling.  \"où règne la dévotion des ascètes\" would be another possibility.\n",
       "> *   **\"لكنّما عيناكِ باهتتان في الأفقِ البعيدْ\"**:  \"Mais tes yeux sont ternes, perdus dans l'horizon lointain.\"  \"Baehtatan\" is tricky to translate directly. \"Ternes\" works well. \"Perdus dans\" captures the sense of being unfocused and distant.\n",
       "> *   **\"بماذا تفكّرينْ؟ بماذا تحلمينْ؟\"**:  These are straightforward translations: \"À quoi penses-tu ? À quoi rêves-tu ?\"\n",
       "> \n",
       "> **Spanish Translation:**\n",
       "> \n",
       "> ```\n",
       "> Las nubes corren en el espacio amplio, como fugitivas.\n",
       "> El sol aparece detrás de ellas, amarillo, con la frente vendada.\n",
       "> El mar está tranquilo, silencioso, con la devoción de los ascetas.\n",
       "> Pero tus ojos están apagados, perdidos en el horizonte lejano.\n",
       "> Salma... ¿en qué piensas?\n",
       "> Salma... ¿con qué sueñas?\n",
       "> ```\n",
       "> \n",
       "> **Explanation of Spanish Translation Choices:**\n",
       "> \n",
       "> *   **\"السحبُ تركضُ\"**: \"Las nubes corren\" is a direct and natural translation.\n",
       "> *   **\"الفضاءِ الرّحبِ\"**: \"El espacio amplio\" is a good equivalent.\n",
       "> *   **\"ركضَ الخائفينْ\"**: \"Como fugitivas/os\" captures the sense of fearful flight. I chose the femenine, \"fugitivas\" to match the clouds, but it could be neutral, \"fugitivos/as\".\n",
       "> *   **\"الشمسُ تبدو خلفها صفراءَ عاصبةَ الجبينْ\"**:  \"El sol aparece detrás de ellas, amarillo, con la frente vendada.\" Mirrors the French choices in trying to retain the image. \"Amarillo, con la frente ceñida\" is another possibility.\n",
       "> *   **\"البحرُ ساجٍ صامتٌ فيه خشوعُ الزاهدينْ\"**: \"El mar está tranquilo, silencioso, con la devoción de los ascetas.\" Again, focusing on the spiritual/reverent aspect. \"Donde reina la devoción...\" could also be used.\n",
       "> *   **\"لكنّما عيناكِ باهتتان في الأفقِ البعيدْ\"**:  \"Pero tus ojos están apagados, perdidos en el horizonte lejano.\"  \"Apagados\" is a good equivalent for \"bahtatan.\"\n",
       "> *   **\"بماذا تفكّرينْ؟ بماذا تحلمينْ؟\"**: \"En qué piensas? Con qué sueñas?\" are the standard translations.\n",
       "> \n",
       "> **General Notes on Both Translations:**\n",
       "> \n",
       "> *   **Poetry vs. Literalism:**  I've aimed for translations that are both accurate and that try to capture the *feeling* of the original poem. This means sometimes sacrificing a very literal rendering to maintain the poetic quality.\n",
       "> *   **Word Choice:**  There are always multiple valid ways to translate, and the best choice depends on the specific nuances you want to emphasize. I've tried to choose words that are both common and evocative.\n",
       "> *   **Cultural Context:** Understanding the cultural context of the poem (e.g., the imagery of the desert landscape, the significance of asceticism) helps in making informed translation choices.\n",
       "> *   **Flow and Rhythm:**  While it's difficult to perfectly replicate the rhythm of the Arabic, I've tried to create translations that read smoothly and naturally in French and Spanish.\n",
       "> \n",
       "> I hope this is helpful!\n"
      ],
      "text/plain": [
       "<IPython.core.display.Markdown object>"
      ]
     },
     "execution_count": 33,
     "metadata": {},
     "output_type": "execute_result"
    }
   ],
   "source": [
    "prompt = f\"\"\"\n",
    "Translate the following Arabic poem to French and Spanish:\n",
    "```{poem}```\n",
    "\"\"\"\n",
    "response, _ = get_completion(prompt)\n",
    "to_markdown(response)"
   ]
  },
  {
   "cell_type": "code",
   "execution_count": 17,
   "metadata": {},
   "outputs": [
    {
     "data": {
      "text/plain": [
       "('Here are the French and Spanish translations of the Arabic poem, trying to maintain the poetic essence:\\n\\n**Arabic Original:**\\n\\n```\\nالسحبُ تركضُ في الفضاءِ الرّحبِ ركضَ الخائفينْ\\nوالشمسُ تبدو خلفها صفراءَ عاصبةَ الجبينْ\\nوالبحرُ ساجٍ صامتٌ فيه خشوعُ الزاهدينْ\\nلكنّما عيناكِ باهتتان في الأفقِ البعيدْ\\nسلمى... بماذا تفكّرينْ؟\\nسلمى... بماذا تحلمينْ؟\\n```\\n\\n**French Translation:**\\n\\n```\\nLes nuages courent dans l\\'espace vaste, courant comme des craintifs,\\nEt le soleil apparaît derrière eux, jaune, le front bandé.\\nLa mer est calme, silencieuse, empreinte de la dévotion des ascètes.\\nMais tes yeux sont ternes dans l\\'horizon lointain,\\nSalma... à quoi penses-tu ?\\nSalma... à quoi rêves-tu ?\\n```\\n\\n**French (Alternative, more poetic):**\\n\\n```\\nLes nuages fuient dans l\\'immensité, en une course éperdue,\\nLe soleil, derrière eux, paraît jaune, le front ceint de peine.\\nLa mer, paisible et muette, vibre du recueillement des ascètes.\\nMais tes yeux sont voilés dans l\\'horizon lointain,\\nSalma... à quoi songes-tu ?\\nSalma... de quoi rêves-tu ?\\n```\\n\\n**Spanish Translation:**\\n\\n```\\nLas nubes corren en el vasto espacio, corriendo como los temerosos,\\nY el sol aparece tras ellas, amarillo, con la frente vendada.\\nEl mar está tranquilo y silencioso, con la devoción de los ascetas.\\nPero tus ojos están apagados en el horizonte lejano,\\nSalma... ¿en qué piensas?\\nSalma... ¿con qué sueñas?\\n```\\n\\n**Spanish (Alternative, more poetic):**\\n\\n```\\nLas nubes huyen por el espacio inmenso, corriendo cual temerosas,\\nEl sol tras ellas, se muestra amarillo, la frente ceñida de angustia.\\nEl mar, sereno y mudo, respira la devoción de los ascetas.\\nPero tus ojos se nublan en el horizonte distante,\\nSalma... ¿qué estás pensando?\\nSalma... ¿con qué estás soñando?\\n```\\n\\n**Explanation of Choices:**\\n\\n* **\"ركضَ الخائفين\" (\"like the running of the frightened ones\"):**  I opted for \"courant comme des craintifs\" (French) and \"corriendo como los temerosos\" (Spanish) to maintain the simile.  The more poetic alternatives use phrases like \"course éperdue\" or \"cual temerosas\" to emphasize the urgency.\\n* **\"عاصبةَ الجبين\" (\"bandaged forehead\"):**  This is a metaphorical expression suggesting weariness or pain. I used \"le front bandé\" (French) and \"la frente vendada\" (Spanish), literally \"bandaged forehead\", but in the alternative, \"ceint de peine\" (French) and \"ceñida de angustia\" (Spanish) are used for better effect.\\n* **\"ساجٍ صامتٌ فيه خشوعُ الزاهدين\" (\"still and silent, with the reverence of ascetics\"):** I tried to capture the tranquility and spiritual depth.\\n* **\"باهتتان\" (\"faded/dull\"):** I chose \"ternes\" (French) and \"apagados\" (Spanish) to best represent the lack of sparkle in the eyes.  \"Voilés\" (French) and \"se nublan\" (Spanish) are used in the alternative translation for a more poetic effect, suggesting the eyes are clouded.\\n\\nI tried to provide options that balance literal accuracy with a more poetic and evocative feel. The alternative translations try to lean a little more towards the poetic side. Choose the version that resonates best with you and the specific purpose of the translation.\\n',\n",
       " None)"
      ]
     },
     "execution_count": 17,
     "metadata": {},
     "output_type": "execute_result"
    }
   ],
   "source": [
    "response"
   ]
  },
  {
   "cell_type": "code",
   "execution_count": 31,
   "metadata": {},
   "outputs": [
    {
     "data": {
      "text/markdown": [
       "> Here's the translation of \"Would you like to order a pillow?\" in both formal and informal Spanish:\n",
       "> \n",
       "> **Formal:**\n",
       "> \n",
       "> *   **¿Le gustaría ordenar una almohada?**\n",
       "> \n",
       "> **Informal:**\n",
       "> \n",
       "> *   **¿Te gustaría ordenar una almohada?**\n",
       "> \n",
       "> *Note:* When using the informal \"tú\" form, you might also hear variations like:\n",
       "> \n",
       "> *   **¿Quisieras pedir una almohada?** (A bit more polite/gentle than \"Te gustaría\")\n",
       "> *   **¿Quieres pedir una almohada?** (Very direct and informal)\n",
       "> \n",
       "> I hope this helps!\n"
      ],
      "text/plain": [
       "<IPython.core.display.Markdown object>"
      ]
     },
     "execution_count": 31,
     "metadata": {},
     "output_type": "execute_result"
    }
   ],
   "source": [
    "prompt = f\"\"\"\n",
    "Translate the following text to Spanish in both the \\\n",
    "formal and informal forms: \n",
    "'Would you like to order a pillow?'\n",
    "\"\"\"\n",
    "response, _ = get_completion(prompt)\n",
    "to_markdown(response)"
   ]
  },
  {
   "cell_type": "markdown",
   "metadata": {},
   "source": [
    "## Universal Translator"
   ]
  },
  {
   "cell_type": "code",
   "execution_count": 20,
   "metadata": {},
   "outputs": [],
   "source": [
    "user_messages = [\n",
    "  \"La performance du système est plus lente que d'habitude.\",  # System performance is slower than normal         \n",
    "  \"Mi monitor tiene píxeles que no se iluminan.\",              # My monitor has pixels that are not lighting\n",
    "  \"Il mio mouse non funziona\",                                 # My mouse is not working\n",
    "  \"Mój klawisz Ctrl jest zepsuty\",                             # My keyboard has a broken control key\n",
    "  \"我的屏幕在闪烁\"                                               # My screen is flashing\n",
    "] "
   ]
  },
  {
   "cell_type": "code",
   "execution_count": 29,
   "metadata": {},
   "outputs": [
    {
     "name": "stdout",
     "output_type": "stream",
     "text": [
      "Original message (('That sentence is in **French**. It translates to: \"The system performance is slower than usual.\"\\n', None)): La performance du système est plus lente que d'habitude.\n",
      "Here are the translations of \"La performance du système est plus lente que d'habitude\" into English and Korean:\n",
      "\n",
      "**English:**\n",
      "\n",
      "*   The system performance is slower than usual.\n",
      "*   The system is performing slower than usual.\n",
      "\n",
      "**Korean:**\n",
      "\n",
      "*   시스템 성능이 평소보다 느립니다. (Siseutem seongneungi pyeongsoboda neurimnida.) - Formal/Polite\n",
      "*   시스템 성능이 평소보다 느려요. (Siseutem seongneungi pyeongsoboda neuryeoyo.) - Standard Polite\n",
      "*   시스템 성능이 평소보다 느려. (Siseutem seongneungi pyeongsoboda neuryeo.) - Informal/Casual\n",
      " \n",
      "\n",
      "Original message (('That language is **Spanish**.\\n', None)): Mi monitor tiene píxeles que no se iluminan.\n",
      "Here are the translations of \"Mi monitor tiene píxeles que no se iluminan.\" into English and Korean:\n",
      "\n",
      "**English:**\n",
      "\n",
      "*   My monitor has pixels that don't light up.\n",
      "*   My monitor has dead pixels. (This is a more idiomatic way to say it)\n",
      "\n",
      "**Korean:**\n",
      "\n",
      "*   내 모니터에는 불이 안 들어오는 픽셀들이 있습니다. (Nae moniteo-e neun buri an deureo-oneun piksel-deul-i 있습니다. - Literal translation)\n",
      "*   내 모니터에 죽은 픽셀이 있어요. (Nae moniteo-e jugeun piksel-i isseoyo. - More natural/idiomatic way of saying \"dead pixel\")\n",
      " \n",
      "\n",
      "Original message (('The language is **Italian**.\\n\\nThe sentence \"Il mio mouse non funziona\" translates to \"My mouse is not working\" in English.\\n', None)): Il mio mouse non funziona\n",
      "Here are the translations of \"Il mio mouse non funziona\":\n",
      "\n",
      "*   **English:** My mouse isn't working. / My mouse doesn't work.\n",
      "*   **Korean:** 내 마우스가 작동하지 않아요. (Nae mauseuga jakdonghaji anhayo.) \n",
      "\n",
      "Original message (('That sentence is in **Polish**.\\n', None)): Mój klawisz Ctrl jest zepsuty\n",
      "Here are the translations of the Polish phrase \"Mój klawisz Ctrl jest zepsuty\" into English and Korean:\n",
      "\n",
      "**English:**\n",
      "\n",
      "*   My Ctrl key is broken.\n",
      "*   My Ctrl key is not working.\n",
      "*   My Ctrl key is faulty.\n",
      "\n",
      "**Korean:**\n",
      "\n",
      "*   제 Ctrl 키가 고장 났어요. (Je Ctrl kiga gojang nass-eoyo.) - This is the most common and natural translation.\n",
      "*   제 Ctrl 키가 안 돼요. (Je Ctrl kiga an dwaeyo.) - This translates to \"My Ctrl key doesn't work.\" It's also a very common way to say it.\n",
      "*   제 Ctrl 키가 망가졌어요. (Je Ctrl kiga manggajyeoss-eoyo.) - This translates to \"My Ctrl key is ruined/broken down.\"\n",
      " \n",
      "\n",
      "Original message (('The language is **Chinese**.\\n\\nSpecifically, it is **Simplified Chinese**.\\n\\nThe phrase \"我的屏幕在闪烁\" translates to \"My screen is flickering\".\\n', None)): 我的屏幕在闪烁\n",
      "Here are the translations:\n",
      "\n",
      "*   **English:** My screen is flickering.\n",
      "*   **Korean:** 내 화면이 깜빡거려요. (nae hwamyeoni kkamppakgeoryeoyo.)\n",
      " \n",
      "\n"
     ]
    }
   ],
   "source": [
    "for issue in user_messages:\n",
    "    prompt = f\"Tell me what language this is: ```{issue}```\"\n",
    "    lang = get_completion(prompt)\n",
    "    print(f\"Original message ({lang}): {issue}\")\n",
    "\n",
    "    prompt = f\"\"\"\n",
    "    Translate the following  text to English \\\n",
    "    and Korean: ```{issue}```\n",
    "    \"\"\"\n",
    "    response, _ = get_completion(prompt)\n",
    "    print(response, \"\\n\")"
   ]
  },
  {
   "cell_type": "markdown",
   "metadata": {},
   "source": [
    "## Tone Transformation"
   ]
  },
  {
   "cell_type": "code",
   "execution_count": 28,
   "metadata": {},
   "outputs": [
    {
     "name": "stdout",
     "output_type": "stream",
     "text": [
      "Here's the translation, aiming for a professional and concise business letter tone:\n",
      "\n",
      "**Subject: Specification for Standing Lamp**\n",
      "\n",
      "Dear [Recipient Name - if known, otherwise use a title like \"Purchasing Manager\" or \"To Whom It May Concern\"],\n",
      "\n",
      "Please find attached the specification document for a standing lamp.\n",
      "\n",
      "Sincerely,\n",
      "\n",
      "Joe [Last Name - if possible]\n",
      "[Your Title/Position - if applicable]\n",
      "[Your Company - if applicable]\n",
      "\n"
     ]
    }
   ],
   "source": [
    "prompt = f\"\"\"\n",
    "Translate the following from slang to a business letter: \n",
    "'Dude, This is Joe, check out this spec on this standing lamp.'\n",
    "\"\"\"\n",
    "response, _ = get_completion(prompt)\n",
    "print(response)"
   ]
  },
  {
   "cell_type": "markdown",
   "metadata": {},
   "source": [
    "## Format Conversion"
   ]
  },
  {
   "cell_type": "code",
   "execution_count": 40,
   "metadata": {},
   "outputs": [
    {
     "data": {
      "text/markdown": [
       "> ```html\n",
       "> <table>\n",
       ">   <caption>Resturant Employees</caption>\n",
       ">   <thead>\n",
       ">     <tr>\n",
       ">       <th>Name</th>\n",
       ">       <th>Email</th>\n",
       ">     </tr>\n",
       ">   </thead>\n",
       ">   <tbody>\n",
       ">     <tr>\n",
       ">       <td>Shyam</td>\n",
       ">       <td>shyamjaiswal@gmail.com</td>\n",
       ">     </tr>\n",
       ">     <tr>\n",
       ">       <td>Bob</td>\n",
       ">       <td>bob32@gmail.com</td>\n",
       ">     </tr>\n",
       ">     <tr>\n",
       ">       <td>Jai</td>\n",
       ">       <td>jai87@gmail.com</td>\n",
       ">     </tr>\n",
       ">   </tbody>\n",
       "> </table>\n",
       "> ```"
      ],
      "text/plain": [
       "<IPython.core.display.Markdown object>"
      ]
     },
     "execution_count": 40,
     "metadata": {},
     "output_type": "execute_result"
    }
   ],
   "source": [
    "data_json = { \"resturant employees\" :[ \n",
    "    {\"name\":\"Shyam\", \"email\":\"shyamjaiswal@gmail.com\"},\n",
    "    {\"name\":\"Bob\", \"email\":\"bob32@gmail.com\"},\n",
    "    {\"name\":\"Jai\", \"email\":\"jai87@gmail.com\"}\n",
    "]}\n",
    "\n",
    "prompt = f\"\"\"\n",
    "Translate the following python dictionary from JSON to an HTML \\\n",
    "table with column headers and title: {data_json}.\n",
    "\n",
    "Only output the HTML table.\n",
    "\"\"\"\n",
    "response, _ = get_completion(prompt)\n",
    "to_markdown(response)"
   ]
  },
  {
   "cell_type": "code",
   "execution_count": 41,
   "metadata": {},
   "outputs": [
    {
     "data": {
      "text/html": [
       "```html\n",
       "<table>\n",
       "  <caption>Resturant Employees</caption>\n",
       "  <thead>\n",
       "    <tr>\n",
       "      <th>Name</th>\n",
       "      <th>Email</th>\n",
       "    </tr>\n",
       "  </thead>\n",
       "  <tbody>\n",
       "    <tr>\n",
       "      <td>Shyam</td>\n",
       "      <td>shyamjaiswal@gmail.com</td>\n",
       "    </tr>\n",
       "    <tr>\n",
       "      <td>Bob</td>\n",
       "      <td>bob32@gmail.com</td>\n",
       "    </tr>\n",
       "    <tr>\n",
       "      <td>Jai</td>\n",
       "      <td>jai87@gmail.com</td>\n",
       "    </tr>\n",
       "  </tbody>\n",
       "</table>\n",
       "```"
      ],
      "text/plain": [
       "<IPython.core.display.HTML object>"
      ]
     },
     "metadata": {},
     "output_type": "display_data"
    }
   ],
   "source": [
    "display(HTML(response))"
   ]
  },
  {
   "cell_type": "markdown",
   "metadata": {},
   "source": [
    "## Spellcheck/Grammar Check"
   ]
  },
  {
   "cell_type": "code",
   "execution_count": 46,
   "metadata": {},
   "outputs": [
    {
     "name": "stdout",
     "output_type": "stream",
     "text": [
      "The girl with the black and white puppies has a ball.\n",
      "\n",
      "No errors found\n",
      "\n",
      "Here's the proofread and corrected text, followed by the rewritten version:\n",
      "\n",
      "**Corrected:** It's going to be a long day. Does the car need its oil changed?\n",
      "\n",
      "**Rewritten:** A long day lies ahead. Does the car require an oil change?\n",
      "\n",
      "**Errors Found and Corrected Version:**\n",
      "\n",
      "There goes my freedom. They're going to bring their suitcases.\n",
      "\n",
      "You're going to need your notebook.\n",
      "\n",
      "Rewritten:\n",
      "\n",
      "You are going to need your notebook.\n",
      "\n",
      "That medicine affects my ability to sleep. Have you heard of the butterfly effect?\n",
      "\n",
      "Corrected Text:\n",
      "This phrase is to check ChatGPT for spelling ability.\n",
      "\n",
      "Rewritten Text:\n",
      "This sentence is designed to evaluate ChatGPT's spelling skills.\n",
      "\n"
     ]
    }
   ],
   "source": [
    "text = [ \n",
    "  \"The girl with the black and white puppies have a ball.\",  # The girl has a ball.\n",
    "  \"Yolanda has her notebook.\", # ok\n",
    "  \"Its going to be a long day. Does the car need it’s oil changed?\",  # Homonyms\n",
    "  \"Their goes my freedom. There going to bring they’re suitcases.\",  # Homonyms\n",
    "  \"Your going to need you’re notebook.\",  # Homonyms\n",
    "  \"That medicine effects my ability to sleep. Have you heard of the butterfly affect?\", # Homonyms\n",
    "  \"This phrase is to cherck chatGPT for speling abilitty\"  # spelling\n",
    "]\n",
    "for t in text:\n",
    "    prompt = f\"\"\"Proofread and correct the following text\n",
    "    and rewrite the corrected version. If you don't find\n",
    "    and errors, just say \"No errors found\". Don't use \n",
    "    any punctuation around the text:\n",
    "    ```{t}```\"\"\"\n",
    "    response, _ = get_completion(prompt)\n",
    "    print(response)"
   ]
  },
  {
   "cell_type": "code",
   "execution_count": 50,
   "metadata": {},
   "outputs": [
    {
     "data": {
      "text/markdown": [
       "> Here's a proofread and corrected version of the review:\n",
       "> \n",
       "> \"I bought this for my daughter's birthday because she kept taking mine from my room. Yes, adults like pandas too! She takes it everywhere with her, and it's super soft and cute. One of the ears is slightly lower than the other, and I don't think that asymmetry was intentional. It's a bit small for the price, though. I think there might be bigger options available for the same amount. It arrived a day earlier than expected, which gave me the chance to enjoy it myself before giving it to my daughter.\"\n",
       "> \n",
       "> Here's a breakdown of the changes:\n",
       "> \n",
       "> *   **\"cuz\" changed to \"because\":** More formal and appropriate for a review.\n",
       "> *   **\"Yes, adults also like pandas too.\" changed to \"Yes, adults like pandas too!\":** Improved punctuation for emphasis.\n",
       "> *   **\"it's super soft and cute.\":** Remains the same, good descriptive language.\n",
       "> *   **\"is a bit lower than the other\" changed to \"is slightly lower than the other\":** Added \"slightly\" for a more nuanced description.\n",
       "> *   **\"and I don't think that was designed to be asymmetrical.\" changed to \"and I don't think that asymmetry was intentional.\":** Rephrased for better clarity and flow.\n",
       "> *   **\"It's a bit small for what I paid for it though.\" changed to \"It's a bit small for the price, though.\":** Shortened for conciseness and reads better.\n",
       "> *   **\"I think there might be other options that are bigger for the same price.\" changed to \"I think there might be bigger options available for the same amount.\":** Streamlined wording.\n",
       "> *   **\"so I got to play with it myself before I gave it to my daughter.\" changed to \"which gave me the chance to enjoy it myself before giving it to my daughter.\":** Improved flow and added a touch of humor.\n"
      ],
      "text/plain": [
       "<IPython.core.display.Markdown object>"
      ]
     },
     "execution_count": 50,
     "metadata": {},
     "output_type": "execute_result"
    }
   ],
   "source": [
    "text = f\"\"\"\n",
    "Got this for my daughter for her birthday cuz she keeps taking \\\n",
    "mine from my room.  Yes, adults also like pandas too.  She takes \\\n",
    "it everywhere with her, and it's super soft and cute.  One of the \\\n",
    "ears is a bit lower than the other, and I don't think that was \\\n",
    "designed to be asymmetrical. It's a bit small for what I paid for it \\\n",
    "though. I think there might be other options that are bigger for \\\n",
    "the same price.  It arrived a day earlier than expected, so I got \\\n",
    "to play with it myself before I gave it to my daughter.\n",
    "\"\"\"\n",
    "prompt = f\"proofread and correct this review: ```{text}```\"\n",
    "response, _ = get_completion(prompt)\n",
    "to_markdown(response)"
   ]
  },
  {
   "cell_type": "code",
   "execution_count": 52,
   "metadata": {},
   "outputs": [
    {
     "data": {
      "text/markdown": [
       "<span style='color:red;font-weight:700;text-decoration:line-through;'>Got </span><span style='color:green;font-weight:700;'>Here's a proofread and corrected version of the review: </span>\n",
       "\n",
       "<span style='color:green;font-weight:700;'>\"I bought </span>this for my <span style='color:red;font-weight:700;text-decoration:line-through;'>daughter for her </span><span style='color:green;font-weight:700;'>daughter's </span>birthday <span style='color:red;font-weight:700;text-decoration:line-through;'>cuz </span><span style='color:green;font-weight:700;'>because </span>she <span style='color:red;font-weight:700;text-decoration:line-through;'>keeps </span><span style='color:green;font-weight:700;'>kept </span>taking mine from my <span style='color:red;font-weight:700;text-decoration:line-through;'>room.  </span><span style='color:green;font-weight:700;'>room. </span>Yes, <span style='color:green;font-weight:700;'>adults like pandas too! She takes it everywhere with her, and it's super soft and cute. One of the ears is slightly lower than the other, and I don't think that asymmetry was intentional. It's a bit small for the price, though. I think there might be bigger options available for the same amount. It arrived a day earlier than expected, which gave me the chance to enjoy it myself before giving it to my daughter.\" </span>\n",
       "\n",
       "<span style='color:green;font-weight:700;'>Here's a breakdown of the changes: </span>\n",
       "\n",
       "<span style='color:green;font-weight:700;'>*   **\"cuz\" changed to \"because\":** More formal and appropriate for a review. </span>\n",
       "\n",
       "<span style='color:green;font-weight:700;'>*   **\"Yes, </span>adults also like pandas <span style='color:red;font-weight:700;text-decoration:line-through;'>too.  She takes it everywhere with her, and it's </span><span style='color:green;font-weight:700;'>too.\" changed to \"Yes, adults like pandas too!\":** Improved punctuation for emphasis. </span>\n",
       "\n",
       "<span style='color:green;font-weight:700;'>*   **\"it's </span>super soft and <span style='color:red;font-weight:700;text-decoration:line-through;'>cute.  One of the ears is </span><span style='color:green;font-weight:700;'>cute.\":** Remains the same, good descriptive language. </span>\n",
       "\n",
       "<span style='color:green;font-weight:700;'>*   **\"is </span>a bit lower than the <span style='color:red;font-weight:700;text-decoration:line-through;'>other, and </span><span style='color:green;font-weight:700;'>other\" changed to \"is slightly lower than the other\":** Added \"slightly\" for a more nuanced description. </span>\n",
       "\n",
       "<span style='color:green;font-weight:700;'>*   **\"and </span>I don't think that was designed to be <span style='color:red;font-weight:700;text-decoration:line-through;'>asymmetrical. It's </span><span style='color:green;font-weight:700;'>asymmetrical.\" changed to \"and I don't think that asymmetry was intentional.\":** Rephrased for better clarity and flow. </span>\n",
       "\n",
       "<span style='color:green;font-weight:700;'>*   **\"It's </span>a bit small for what I paid for it <span style='color:red;font-weight:700;text-decoration:line-through;'>though. I </span><span style='color:green;font-weight:700;'>though.\" changed to \"It's a bit small for the price, though.\":** Shortened for conciseness and reads better. </span>\n",
       "\n",
       "<span style='color:green;font-weight:700;'>*   **\"I </span>think there might be other options that are bigger for the same <span style='color:red;font-weight:700;text-decoration:line-through;'>price.  It arrived a day earlier than expected, so </span><span style='color:green;font-weight:700;'>price.\" changed to \"I think there might be bigger options available for the same amount.\":** Streamlined wording. </span>\n",
       "\n",
       "<span style='color:green;font-weight:700;'>*   **\"so </span>I got to play with it myself before I gave it to my <span style='color:red;font-weight:700;text-decoration:line-through;'>daughter.</span><span style='color:green;font-weight:700;'>daughter.\" changed to \"which gave me the chance to enjoy it myself before giving it to my daughter.\":** Improved flow and added a touch of humor.</span>"
      ],
      "text/plain": [
       "<IPython.core.display.Markdown object>"
      ]
     },
     "metadata": {},
     "output_type": "display_data"
    }
   ],
   "source": [
    "from redlines import Redlines\n",
    "\n",
    "diff = Redlines(text,response)\n",
    "display(Markdown(diff.output_markdown))"
   ]
  },
  {
   "cell_type": "code",
   "execution_count": 54,
   "metadata": {},
   "outputs": [
    {
     "data": {
      "text/markdown": [
       "```markdown\n",
       "This plush panda presented as an adequate, though not exceptional, purchase. Procured as a birthday gift to mitigate ongoing appropriations of a similar item by the recipient, its tactile softness and aesthetic appeal proved universally agreeable, transcending the intended demographic (i.e., appealing to an adult user). The object's portability facilitated ubiquitous companionship for the recipient. However, objective evaluation revealed a discernible asymmetry in ear placement, suggesting a potential manufacturing inconsistency rather than deliberate design. Furthermore, the item's diminutive size relative to its cost warrants consideration, as comparative market analysis indicates potentially more volumetrically substantial alternatives within a similar price bracket. Notwithstanding, expedited delivery provided an unforeseen opportunity for preliminary evaluation prior to gifting.\n",
       "```\n"
      ],
      "text/plain": [
       "<IPython.core.display.Markdown object>"
      ]
     },
     "metadata": {},
     "output_type": "display_data"
    }
   ],
   "source": [
    "prompt = f\"\"\"\n",
    "proofread and correct this review. Make it more compelling. \n",
    "Ensure it follows APA style guide and targets an advanced reader. \n",
    "Output in markdown format.\n",
    "Text: ```{text}```\n",
    "\"\"\"\n",
    "response, _ = get_completion(prompt)\n",
    "display(Markdown(response))"
   ]
  },
  {
   "cell_type": "code",
   "execution_count": null,
   "metadata": {},
   "outputs": [],
   "source": []
  }
 ],
 "metadata": {
  "kernelspec": {
   "display_name": "venv",
   "language": "python",
   "name": "python3"
  },
  "language_info": {
   "codemirror_mode": {
    "name": "ipython",
    "version": 3
   },
   "file_extension": ".py",
   "mimetype": "text/x-python",
   "name": "python",
   "nbconvert_exporter": "python",
   "pygments_lexer": "ipython3",
   "version": "3.13.1"
  }
 },
 "nbformat": 4,
 "nbformat_minor": 2
}
